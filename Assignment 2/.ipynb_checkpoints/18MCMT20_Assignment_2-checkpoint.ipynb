{
 "cells": [
  {
   "cell_type": "markdown",
   "metadata": {
    "colab_type": "text",
    "id": "8J_oeH4WcHmB"
   },
   "source": [
    "# NN Assignent - 2\n",
    "<b>\n",
    "<p >Assignment No: 2</p>\n",
    "<p >Name : Krutika Injamuri</p>\n",
    "<p >Roll No:18MCMT20</p>\n",
    "<p>Brach: MTech CS</p>\n",
    "</b>"
   ]
  },
  {
   "cell_type": "code",
   "execution_count": 4,
   "metadata": {
    "colab": {
     "base_uri": "https://localhost:8080/",
     "height": 170
    },
    "colab_type": "code",
    "id": "tHy46ogZcrQe",
    "outputId": "802a1dad-bd0d-4e18-af92-25a0911273bd"
   },
   "outputs": [
    {
     "name": "stdout",
     "output_type": "stream",
     "text": [
      "total 53688\n",
      "drwxr-xr-x 1 root root     4096 Oct  8 07:25 .\n",
      "drwxr-xr-x 1 root root     4096 Oct  7 13:02 ..\n",
      "drwxr-xr-x 4 root root     4096 Sep 28 23:11 .config\n",
      "drwxr-xr-x 2 root root     4096 Sep 28 23:32 sample_data\n",
      "-rw-r--r-- 1 root root  7840016 Oct  8 07:25 t10k-images.idx3-ubyte\n",
      "-rw-r--r-- 1 root root    10008 Oct  8 07:22 t10k-labels.idx1-ubyte\n",
      "-rw-r--r-- 1 root root 47040016 Oct  8 07:41 train-images.idx3-ubyte\n",
      "-rw-r--r-- 1 root root    60008 Oct  8 07:25 train-labels.idx1-ubyte\n"
     ]
    }
   ],
   "source": [
    "!ls -al"
   ]
  },
  {
   "cell_type": "code",
   "execution_count": 4,
   "metadata": {
    "colab": {
     "base_uri": "https://localhost:8080/",
     "height": 242,
     "resources": {
      "http://localhost:8080/nbextensions/google.colab/files.js": {
       "data": "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",
       "headers": [
        [
         "content-type",
         "application/javascript"
        ]
       ],
       "ok": true,
       "status": 200,
       "status_text": ""
      }
     }
    },
    "colab_type": "code",
    "id": "_P7_wwx9YAt5",
    "outputId": "c77ff9d2-d95a-4da5-d61b-496f842a07f5"
   },
   "outputs": [
    {
     "data": {
      "text/html": [
       "\n",
       "     <input type=\"file\" id=\"files-2425ba3a-4b70-4051-8f1f-9fcd70761bed\" name=\"files[]\" multiple disabled />\n",
       "     <output id=\"result-2425ba3a-4b70-4051-8f1f-9fcd70761bed\">\n",
       "      Upload widget is only available when the cell has been executed in the\n",
       "      current browser session. Please rerun this cell to enable.\n",
       "      </output>\n",
       "      <script src=\"/nbextensions/google.colab/files.js\"></script> "
      ],
      "text/plain": [
       "<IPython.core.display.HTML object>"
      ]
     },
     "metadata": {
      "tags": []
     },
     "output_type": "display_data"
    },
    {
     "name": "stdout",
     "output_type": "stream",
     "text": [
      "Saving t10k-labels.idx1-ubyte to t10k-labels.idx1-ubyte\n",
      "Saving t10k-images.idx3-ubyte to t10k-images.idx3-ubyte\n",
      "Saving train-labels.idx1-ubyte to train-labels.idx1-ubyte\n",
      "Saving train-images.idx3-ubyte to train-images.idx3-ubyte\n",
      "User uploaded file \"t10k-labels.idx1-ubyte\" with length 10008 bytes\n",
      "User uploaded file \"t10k-images.idx3-ubyte\" with length 7840016 bytes\n",
      "User uploaded file \"train-labels.idx1-ubyte\" with length 60008 bytes\n",
      "User uploaded file \"train-images.idx3-ubyte\" with length 47040016 bytes\n"
     ]
    }
   ],
   "source": [
    "from google.colab import files\n",
    "import io\n",
    "from google.colab import files\n",
    "uploaded = files.upload()\n",
    "\n",
    "for fn in uploaded.keys():\n",
    "  print('User uploaded file \"{name}\" with length {length} bytes'.format(name=fn, length=len(uploaded[fn])))"
   ]
  },
  {
   "cell_type": "markdown",
   "metadata": {
    "colab_type": "text",
    "id": "cWwywd-DZtkC"
   },
   "source": [
    "**Imports Used throughout assignment:**\n"
   ]
  },
  {
   "cell_type": "code",
   "execution_count": 0,
   "metadata": {
    "colab": {},
    "colab_type": "code",
    "id": "wkcrilnxZsAR"
   },
   "outputs": [],
   "source": [
    "import time\n",
    "import struct as st\n",
    "import numpy as np\n",
    "from sklearn.model_selection import KFold\n",
    "import matplotlib.pyplot as plt\n",
    "from collections import defaultdict\n",
    "from scipy.ndimage import interpolation"
   ]
  },
  {
   "cell_type": "code",
   "execution_count": 19,
   "metadata": {
    "colab": {
     "base_uri": "https://localhost:8080/",
     "height": 153
    },
    "colab_type": "code",
    "id": "531BuTd_TtU_",
    "outputId": "e8c13177-4a8a-4987-8f8b-d770b7a8cece"
   },
   "outputs": [
    {
     "name": "stdout",
     "output_type": "stream",
     "text": [
      "Data is  3 -D\n",
      "no. of images ::  60000\n",
      "no. of rows ::  28\n",
      "no. of columns ::  28\n",
      "no. of images test ::  10000\n",
      "no. of rows test::  28\n",
      "no. of columns test::  28\n",
      "Time of execution : 4.762466669082642 seconds\n"
     ]
    }
   ],
   "source": [
    "\n",
    "stime = time.time()\n",
    "filename = {'images' : 'train-images.idx3-ubyte' ,'labels' : 'train-labels.idx1-ubyte','testImages' : 't10k-images.idx3-ubyte' ,'testLabels' : 't10k-labels.idx1-ubyte'}\n",
    "\n",
    "labels_array = np.array([])\n",
    "\n",
    "data_types = {\n",
    "        0x08: ('ubyte', 'B', 1),\n",
    "        0x09: ('byte', 'b', 1),\n",
    "        0x0B: ('>i2', 'h', 2),\n",
    "        0x0C: ('>i4', 'i', 4),\n",
    "        0x0D: ('>f4', 'f', 4),\n",
    "        0x0E: ('>f8', 'd', 8)}\n",
    "\n",
    "for name in filename.keys():\n",
    "    if name == 'images':\n",
    "        imagesfile = open(filename[name],'rb')\n",
    "    if name == 'labels':\n",
    "        labelsfile = open(filename[name],'rb')\n",
    "    if name == 'testImages':\n",
    "        testImagesFile = open(filename[name],'rb')\n",
    "    if name == 'testLabels':\n",
    "        testLabelsFile = open(filename[name],'rb')\n",
    "\n",
    "        \n",
    "def getParams(file):\n",
    "  file.seek(4)\n",
    "  nImg = st.unpack('>I',file.read(4))[0] #num of images/labels\n",
    "  nR = st.unpack('>I',file.read(4))[0] #num of rows\n",
    "  nC = st.unpack('>I',file.read(4))[0] #num of columns\n",
    "  return nImg,nR,nC\n",
    "  \n",
    "#reading magic number\n",
    "imagesfile.seek(0)\n",
    "magic = st.unpack('>4B',imagesfile.read(4))\n",
    "\n",
    "# print(magic)\n",
    "if(magic[0] and magic[1])or(magic[2] not in data_types):\n",
    "    raise ValueError(\"File Format not correct\")\n",
    "\n",
    "nDim = magic[3]\n",
    "print(\"Data is \",nDim,\"-D\")\n",
    "\n",
    "\n",
    "nImg,nR,nC= getParams(imagesfile)\n",
    "nBytes = nImg*nR*nC\n",
    "labelsfile.seek(8) #Since no. of items = no. of images and is already read\n",
    "print(\"no. of images :: \",nImg)\n",
    "print(\"no. of rows :: \",nR)\n",
    "print(\"no. of columns :: \",nC)\n",
    "\n",
    "\n",
    "nImgTest,nRTest,nCTest= getParams(testImagesFile)\n",
    "nBytesTest = nImgTest*nRTest*nCTest\n",
    "testLabelsFile.seek(8) #Since no. of items = no. of images and is already read\n",
    "print(\"no. of images test :: \",nImgTest)\n",
    "print(\"no. of rows test:: \",nRTest)\n",
    "print(\"no. of columns test:: \",nCTest)\n",
    "\n",
    "\n",
    "#Read all data bytes at once and then reshape\n",
    "normalizingValue=(255  *0.99 + 0.01)\n",
    "train_imgs = np.asarray(st.unpack('>'+'B'*nBytes,imagesfile.read(nBytes))).reshape((nImg,nR*nC))\n",
    "train_labels = np.asarray(st.unpack('>'+'B'*nImg,labelsfile.read(nImg))).reshape((nImg,1))\n",
    "\n",
    "test_imgs = np.asarray(st.unpack('>'+'B'*nBytesTest,testImagesFile.read(nBytesTest))).reshape((nImgTest,nRTest*nCTest))\n",
    "test_labels = np.asarray(st.unpack('>'+'B'*nImgTest,testLabelsFile.read(nImgTest))).reshape((nImgTest,1))\n",
    "# images_array=np.true_divide(images_array,normalizingValue)\n",
    "# test_images_array=np.true_divide(test_images_array,normalizingValue)\n",
    "\n",
    "\n",
    "lr = np.arange(10)\n",
    "# transform labels into one hot representation\n",
    "train_labels_one_hot = (lr==train_labels).astype(np.float)\n",
    "test_labels_one_hot = (lr==test_labels).astype(np.float)\n",
    "# we don't want zeroes and ones in the labels neither:\n",
    "train_labels_one_hot[train_labels_one_hot==0] = 0.01\n",
    "train_labels_one_hot[train_labels_one_hot==1] = 0.99\n",
    "test_labels_one_hot[test_labels_one_hot==0] = 0.01\n",
    "test_labels_one_hot[test_labels_one_hot==1] = 0.99\n",
    "\n",
    "train_imgs=0.99 - (((0.98) * (255 - train_imgs)) / 255)\n",
    "test_imgs=0.99 - (((0.98) * (255 - test_imgs)) / 255)\n",
    "\n",
    "\n",
    "no_of_different_labels = 10 \n",
    "image_size=28\n",
    "image_pixels = image_size * image_size\n",
    "print(\"Time of execution : %s seconds\" % str(time.time()-stime))"
   ]
  },
  {
   "cell_type": "code",
   "execution_count": 0,
   "metadata": {
    "colab": {},
    "colab_type": "code",
    "id": "uCx_B0IAGhwN"
   },
   "outputs": [],
   "source": [
    "\n",
    "def sigmoid(x):\n",
    "    return 1 / (1 + np.e ** -x)\n",
    "def sigDerivative(x):\n",
    "  return x*(1-x)\n",
    "  \n",
    "activation_function = sigmoid\n",
    "\n",
    "class NeuralNetwork:\n",
    "    \n",
    "    def __init__(self,inNodes, outNodes, hiddenNodes,learningRate,epochs):\n",
    "      self.inNodes = inNodes\n",
    "      self.outNodes = outNodes\n",
    "      self.hiddenNodes = hiddenNodes\n",
    "      self.learningRate = learningRate \n",
    "      self.itohweights=np.random.randn(self.hiddenNodes, self.inNodes)\n",
    "      self.htooweights=np.random.randn(self.outNodes, self.hiddenNodes)\n",
    "      self.itohchangeWeights=np.random.randn(self.hiddenNodes, self.inNodes)\n",
    "      self.htoochangeWeights=np.random.randn(self.outNodes, self.hiddenNodes)\n",
    "      self.xj=[]\n",
    "      self.epochs=epochs\n",
    "        \n",
    "    def forwardPropagation(self,inputVector):\n",
    "      inputVector = np.array(inputVector, ndmin=2).T\n",
    "\n",
    "      output_vector1 = np.dot(self.itohweights, inputVector)\n",
    "      self.xj = sigmoid(output_vector1)\n",
    "\n",
    "      output_vector2 = np.dot(self.htooweights,self.xj)\n",
    "      return sigmoid(output_vector2)\n",
    "      \n",
    "    def backPropagation(self,inputVector,targetVector,expectedVector,regularization):\n",
    "        targetVector = np.array(targetVector, ndmin=2).T\n",
    "        inputVector = np.array(inputVector, ndmin=2).T\n",
    "      \n",
    "        errors = targetVector - expectedVector\n",
    "        tmp = errors * sigDerivative(expectedVector )\n",
    "        if regularization == None:\n",
    "          self.htooweights += self.learningRate  * np.dot(tmp,self.xj.T)\n",
    "        else:\n",
    "          self.htooweights += self.learningRate  * np.dot(tmp,self.xj.T) + 0.0001*self.htoochangeWeights\n",
    "          self.htoochangeWeights=np.dot(tmp,self.xj.T)\n",
    "        \n",
    "        # calculate hidden errors:\n",
    "        hidden_errors = np.dot(self.htooweights.T,errors)\n",
    "        # update the weights:\n",
    "        tmp = hidden_errors * sigDerivative(self.xj)\n",
    "        if regularization == None:\n",
    "          self.itohweights += self.learningRate * np.dot(tmp, inputVector.T)\n",
    "\n",
    "        else:\n",
    "          self.itohweights += self.learningRate * np.dot(tmp, inputVector.T) + 0.0001*self.itohchangeWeights\n",
    "          self.itohchangeWeights=np.dot(tmp, inputVector.T)\n",
    "      \n",
    "    \n",
    "    def train(self, inputVector, targetVector,reg):\n",
    "        for ep in range(self.epochs):\n",
    "          self.backPropagation(inputVector,targetVector,self.forwardPropagation(inputVector),reg)\n",
    "          \n",
    "          \n",
    "    def run(self, inputVector):\n",
    "       \n",
    "        return self.forwardPropagation(inputVector)\n",
    "            \n",
    "    def confusion_matrix(self, data_array, labels):\n",
    "        cm = np.zeros((10, 10), int)\n",
    "        for i in range(len(data_array)):\n",
    "            res = self.run(data_array[i])\n",
    "            res_max = res.argmax()\n",
    "            target = labels[i][0]\n",
    "            cm[res_max, int(target)] += 1\n",
    "        return cm   \n",
    "    def evaluate(self, data, labels):\n",
    "      corrects, wrongs = 0, 0\n",
    "      for i in range(len(data)):\n",
    "          res = self.run(data[i])\n",
    "          res_max = res.argmax()\n",
    "          if res_max == labels[i]:\n",
    "              corrects += 1\n",
    "          else:\n",
    "              wrongs += 1\n",
    "      return corrects, wrongs"
   ]
  },
  {
   "cell_type": "code",
   "execution_count": 0,
   "metadata": {
    "colab": {},
    "colab_type": "code",
    "id": "NNKMIIb-JgMP"
   },
   "outputs": [],
   "source": [
    "class measuresOfConMatrix:\n",
    "  def __init__(self,cm):\n",
    "    self.cm=cm\n",
    "    self.TP=self.getTP()\n",
    "    self.TN=self.getTN()\n",
    "    self.FP=self.getFP()\n",
    "    self.FN=self.getFN()\n",
    "    self.tot=self.TP+self.TN+self.FP+self.FN\n",
    "  def errorRate(self):\n",
    "    return np.around(((self.FP+self.FN)/self.tot),decimals=3)\n",
    "\n",
    "  def accuracy(self):\n",
    "    return np.around((self.TP+self.TN)/self.tot,decimals=3)\n",
    "\n",
    "  def precision(self):\n",
    "    return np.around((self.TP/(self.TP+self.FP)),decimals=3)\n",
    "  def recall(self):\n",
    "    return np.around((self.TP/(self.TP+self.FN)),decimals=3)\n",
    "  def specificity(self):\n",
    "    return np.around((self.TN/(self.FP+self.TN)),decimals=3)\n",
    "\n",
    "  def getTP(self):\n",
    "        return np.diag(self.cm)\n",
    "  def getFP(self):\n",
    "      FP = []\n",
    "      for i in range(10):\n",
    "        FP.append(sum(self.cm[:,i]) - self.cm[i,i])\n",
    "      return np.array(FP)\n",
    "  def getFN(self):  \n",
    "      FN = []\n",
    "      for i in range(10):\n",
    "          FN.append(sum(self.cm[i,:]) - self.cm[i,i])\n",
    "      return np.array(FN)\n",
    "  def getTN(self):\n",
    "      TN = []\n",
    "      for i in range(10):\n",
    "          temp = np.delete(self.cm, i, 0)   # delete ith row\n",
    "          temp = np.delete(temp, i, 1)  # delete ith column\n",
    "          TN.append(sum(sum(temp)))\n",
    "      return np.array(TN)"
   ]
  },
  {
   "cell_type": "markdown",
   "metadata": {
    "colab_type": "text",
    "id": "4ses2A4FfkuK"
   },
   "source": [
    "**5 FoldCross Validation:**\n",
    "\n",
    " In the below we are doing a 5 fold cross validation. The entire data set is divided into 5 equal partions. In each iteration we consider 4 sets as the training sets and remaining set as the test set. Over these training and test sets the model is trained and tested. Each time error is calculated. This is called as the cross validation error. Average is found of these error values.\n",
    " \n",
    " The above process is repeated for different models and the one with the least average error is chosen. This model is then used to train the entire dataset and then test it. \n",
    " \n",
    " This process of cross validations allows us to choose the best model with least average error.\n",
    " \n",
    " In the below code Stochaistic Gradient odel is used with different hyper parameters in each Cross Validation.\n",
    " \n",
    " **Observations:**\n",
    "\n",
    "1.  As the number of hidden unit increases the time taken to execute also increases\n",
    "2.   As the chosen model is Stochaistic Gradient descent, it updates the weight matrix for each of the epoch and hence the time consumed is more.\n",
    "3. The minimum cross validation average error is **0.17984**\n",
    "\n",
    "**Confusion Matrix:**\n",
    "\n",
    "It is a 10 x 10 matrix, where the rows represent the true label of a test sample and the columnsrepresent the predicted labels of the NN classifier\n",
    "\n",
    "There are many measures of Confusion matrix like error, accuracy, standard deviation and many more.\n",
    "\n",
    "TP: True Positive\n",
    "TN: True Negative\n",
    "FP: False Positive\n",
    "FP: False Negative\n",
    "\n",
    "Error = (FP+FN)/(TP+TN+FP+FN)\n",
    "\n",
    "Accuracy = (TP+TN)/(TP+TN+FP+FN)\n",
    "\n",
    "Sensitivity/Recall = TP/(TP+FN)\n",
    "\n",
    "Specificity = TN/(FP+TN)\n",
    "\n",
    "Precision =  TP/(TP+FP)\n",
    "\n",
    "Below are the observations for the best model used\n",
    "Model  Used :  Stochastic Gradient descent Model\n",
    "\n",
    "Hyper Parameters:\n",
    "\n",
    "$\\eta $=0.01, \n",
    "number of hidden layers = 1, \n",
    "number of hidden nodes in one layer = 100, \n",
    "number of epochs = 1\n",
    "\n",
    "**Confusion Matrix obtained:**\n",
    "\n",
    "$\\left[ \\begin{array}{cccc}\n",
    " 956&0& 12&4&0& 10&8&2&4&4\\\\\n",
    "1& 1121&6&6&0&6&4& 18& 10& 11\\\\\n",
    "2&2&934&6&5&4&2& 16&7&0\\\\\n",
    "1&3& 17&932&0& 43&0&7& 12& 15\\\\\n",
    "0&0& 11&3&888&8&7&8&5& 11\\\\\n",
    "2&1&1&6&0&747&9&1&4&0\\\\\n",
    "7&4& 13&3& 10& 10&917&1&4&1\\\\\n",
    "2&1&7&5&0&3&0&923&4&4\\\\\n",
    "7&3& 27& 33& 13& 44& 11&4&905& 11\\\\\n",
    "2&0&4& 12& 66& 17&0& 48& 19&952\\\\\\\\\n",
    "\\end{array} \\right]$\n",
    "\n",
    "\n",
    "\n",
    "\n",
    "**Total Accuracy:** 86.96%\n",
    "\n",
    "** Total Error: ** 13.0999%\n",
    "\n",
    "**Average Error of all folds in Cross Validation: **   0.17968\n",
    " \n",
    " \n",
    " **Average Error of digits:** 2.61%\n",
    " **Average Standard Deviation:**  0.00938562730988185\n",
    " \n",
    "\n",
    " | Digit | Precision|Recall|Accuracy | Specificity |Error\n",
    "|------|------|------|------|------|------|\n",
    "| 0 |  0.976 |  0.956 |  0.993 |  0.997 |0.007\n",
    "| 1 |  0.988 |  0.948 |  0.992 |  0.998 |0.008\n",
    "| 2 |  0.905 |  0.955 |  0.986 |  0.989 |0.014\n",
    "| 3 |  0.923 |  0.905 |  0.982 |  0.991 |0.018\n",
    "| 4 |  0.904 |  0.944 |  0.985 |  0.99 |0.015\n",
    "| 5 |  0.837 |  0.969 |  0.983 |  0.984 |0.017\n",
    "| 6 |  0.957 |  0.945 |  0.991 |  0.995 |0.009\n",
    "| 7 |  0.898 |  0.973 |  0.987 |  0.988 |0.013\n",
    "| 8 |  0.929 |  0.855 |  0.978 |  0.992 |0.022\n",
    "| 9 |  0.944 |  0.85 |  0.978 |  0.994 |0.022"
   ]
  },
  {
   "cell_type": "code",
   "execution_count": 27,
   "metadata": {
    "colab": {
     "base_uri": "https://localhost:8080/",
     "height": 918
    },
    "colab_type": "code",
    "id": "BPP6A_87TV3P",
    "outputId": "368bbbcb-bd0d-4300-da0d-0b7b4f183e51"
   },
   "outputs": [
    {
     "name": "stdout",
     "output_type": "stream",
     "text": [
      "-----------------------------------START----------------------------------------\n",
      "hiddenNodes :  100 learningRate =  0.1 epochs=  1\n",
      "Error at folds :  [0.17930000000000001, 0.1791, 0.1804, 0.17960000000000004, 0.18080000000000002]\n",
      "Average Error :  0.17984000000000006\n",
      "-----------------------------------END----------------------------------------\n",
      "-----------------------------------START----------------------------------------\n",
      "hiddenNodes :  100 learningRate =  0.1 epochs=  5\n",
      "Error at folds :  [0.17990000000000003, 0.1799, 0.1804, 0.181, 0.18120000000000003]\n",
      "Average Error :  0.18048000000000003\n",
      "-----------------------------------END----------------------------------------\n",
      "-----------------------------------START----------------------------------------\n",
      "hiddenNodes :  150 learningRate =  0.1 epochs=  1\n",
      "Error at folds :  [0.18010000000000004, 0.17930000000000001, 0.18080000000000002, 0.18040000000000003, 0.18180000000000002]\n",
      "Average Error :  0.18048000000000003\n",
      "-----------------------------------END----------------------------------------\n",
      "-----------------------------------START----------------------------------------\n",
      "hiddenNodes :  150 learningRate =  0.1 epochs=  5\n",
      "Error at folds :  [0.1797, 0.17950000000000005, 0.18120000000000003, 0.1806, 0.18100000000000002]\n",
      "Average Error :  0.18040000000000003\n",
      "-----------------------------------END----------------------------------------\n",
      "-----------------------------------START----------------------------------------\n",
      "hiddenNodes :  200 learningRate =  0.1 epochs=  1\n",
      "Error at folds :  [0.18000000000000002, 0.1802, 0.18040000000000003, 0.1806, 0.18080000000000002]\n",
      "Average Error :  0.18040000000000003\n",
      "-----------------------------------END----------------------------------------\n",
      "-----------------------------------START----------------------------------------\n",
      "hiddenNodes :  200 learningRate =  0.1 epochs=  5\n",
      "Error at folds :  [0.18020000000000003, 0.18140000000000003, 0.18109999999999998, 0.1799, 0.1809]\n",
      "Average Error :  0.1807\n",
      "-----------------------------------END----------------------------------------\n",
      "Min Error Index :  0 Min Error :  0.17984000000000006\n",
      "Model Used:  [100, 0.1, 1]\n",
      "[[ 956    0   12    4    0   10    8    2    4    4]\n",
      " [   1 1121    6    6    0    6    4   18   10   11]\n",
      " [   2    2  934    6    5    4    2   16    7    0]\n",
      " [   1    3   17  932    0   43    0    7   12   15]\n",
      " [   0    0   11    3  888    8    7    8    5   11]\n",
      " [   2    1    1    6    0  747    9    1    4    0]\n",
      " [   7    4   13    3   10   10  917    1    4    1]\n",
      " [   2    1    7    5    0    3    0  923    4    4]\n",
      " [   7    3   27   33   13   44   11    4  905   11]\n",
      " [   2    0    4   12   66   17    0   48   19  952]]\n",
      "digit:  0 Precision:  0.976 Recall:  0.956 Accuracy:  0.993 Specificity:  0.997 errorRate:  0.007\n",
      "digit:  1 Precision:  0.988 Recall:  0.948 Accuracy:  0.992 Specificity:  0.998 errorRate:  0.008\n",
      "digit:  2 Precision:  0.905 Recall:  0.955 Accuracy:  0.986 Specificity:  0.989 errorRate:  0.014\n",
      "digit:  3 Precision:  0.923 Recall:  0.905 Accuracy:  0.982 Specificity:  0.991 errorRate:  0.018\n",
      "digit:  4 Precision:  0.904 Recall:  0.944 Accuracy:  0.985 Specificity:  0.99 errorRate:  0.015\n",
      "digit:  5 Precision:  0.837 Recall:  0.969 Accuracy:  0.983 Specificity:  0.984 errorRate:  0.017\n",
      "digit:  6 Precision:  0.957 Recall:  0.945 Accuracy:  0.991 Specificity:  0.995 errorRate:  0.009\n",
      "digit:  7 Precision:  0.898 Recall:  0.973 Accuracy:  0.987 Specificity:  0.988 errorRate:  0.013\n",
      "digit:  8 Precision:  0.929 Recall:  0.855 Accuracy:  0.978 Specificity:  0.992 errorRate:  0.022\n",
      "digit:  9 Precision:  0.944 Recall:  0.85 Accuracy:  0.978 Specificity:  0.994 errorRate:  0.022\n",
      "Accuracy :  0.9275 Total Error :  0.07250000000000001 Average error:  0.014499999999999999 Average Standar Deviation of Error Rate: 0.005123475382979799\n"
     ]
    }
   ],
   "source": [
    "train_imgs=train_imgs.reshape(nImg,nR*nC)\n",
    "\n",
    "test_imgs=test_imgs.reshape(nImgTest,nRTest*nCTest)\n",
    "numberOfFolds=5\n",
    "hyperParameters=[[100,0.1,1],[100,0.1,5],[150,0.1,1],[150,0.1,5],[200,0.1,1],[200,0.1,5]]\n",
    "# hyperParameters=[[100,0.1,1,100],[100,0.1,1,200],[100,0.1,1,300],[100,0.1,1,400],[100,0.1,1,500],[100,0.1,1,600],[100,0.1,1,00],]\n",
    "\n",
    "errorTracker=[]\n",
    "stdTracker=[]\n",
    "avgErrorTracker=[]\n",
    "minErrorIndex=0\n",
    "minError=10000\n",
    "\n",
    "for index in range(len(hyperParameters)):\n",
    "  print(\"-----------------------------------START----------------------------------------\")\n",
    "  kfold = KFold(numberOfFolds,False, 1)\n",
    "  print(\"hiddenNodes : \", hyperParameters[index][0], \"learningRate = \",hyperParameters[index][1],\"epochs= \",hyperParameters[index][2])\n",
    "  foldError=[]\n",
    "  stdError=[]\n",
    "  for train, test in kfold.split(train_imgs):\n",
    "    nn = NeuralNetwork(inNodes = image_pixels, outNodes = 10,  hiddenNodes = hyperParameters[index][0], learningRate = hyperParameters[index][1],epochs=hyperParameters[index][2])\n",
    "    trainingSetImg=train_imgs[train]\n",
    "    testingSetImg=train_imgs[test]   \n",
    "    trainingSetLabel=train_labels_one_hot[train]\n",
    "    testingSetLabel=train_labels_one_hot[test]\n",
    "    for k in range(trainingSetImg.shape[0]):\n",
    "      nn.train(trainingSetImg[k], trainingSetLabel[k],None)\n",
    "    cm = nn.confusion_matrix(testingSetImg, testingSetLabel)\n",
    "\n",
    "    conMatrixMeasures=measuresOfConMatrix(cm)\n",
    "    foldError.append(np.average(conMatrixMeasures.errorRate()))\n",
    "    stdError.append(np.std(conMatrixMeasures.errorRate()))\n",
    "  print(\"Error at folds : \",foldError)\n",
    "  errorTracker.append(foldError)\n",
    "  stdTracker.append(stdError)\n",
    "  avgError=np.average(foldError)\n",
    "  print(\"Average Error : \",avgError)\n",
    "  avgErrorTracker.append(avgError)\n",
    "  if(avgError<minError):\n",
    "    minError=avgError\n",
    "    minErrorIndex=index\n",
    "  print(\"-----------------------------------END----------------------------------------\")\n",
    "   \n",
    "print(\"Min Error Index : \",minErrorIndex,\"Min Error : \",minError)\n",
    "print(\"Model Used: \",hyperParameters[minErrorIndex])    \n",
    "nn = NeuralNetwork(inNodes = image_pixels, outNodes = 10,  hiddenNodes = hyperParameters[minErrorIndex][0], learningRate = hyperParameters[minErrorIndex][1],epochs=hyperParameters[minErrorIndex][2])   \n",
    "for i in range(train_imgs.shape[0]):\n",
    "  nn.train(train_imgs[i],train_labels_one_hot[i],None)\n",
    "cm=nn.confusion_matrix(test_imgs, test_labels)\n",
    "print(cm)\n",
    "conMatrixMeasures=measuresOfConMatrix(cm)\n",
    "corrects, wrongs = nn.evaluate(test_imgs, test_labels)\n",
    "accuracy=corrects / ( corrects + wrongs)\n",
    "for i in range(10):\n",
    "  print(\"digit: \", i, \"Precision: \", conMatrixMeasures.precision()[i], \"Recall: \", conMatrixMeasures.recall()[i],\n",
    "       \"Accuracy: \", conMatrixMeasures.accuracy()[i], \"Specificity: \", conMatrixMeasures.specificity()[i],\n",
    "       \"errorRate: \",conMatrixMeasures.errorRate()[i])\n",
    "print(\"Accuracy : \",accuracy,\"Total Error : \",1-accuracy,\"Average error: \",np.average(conMatrixMeasures.errorRate()),\"Average Standar Deviation of Error Rate:\",np.std(conMatrixMeasures.errorRate()));\n",
    "\n"
   ]
  },
  {
   "cell_type": "code",
   "execution_count": 28,
   "metadata": {
    "colab": {
     "base_uri": "https://localhost:8080/",
     "height": 715
    },
    "colab_type": "code",
    "id": "V7VqiYWOUKCH",
    "outputId": "dddea7c8-5065-40b1-81d2-bfc65ddd80fb"
   },
   "outputs": [
    {
     "name": "stdout",
     "output_type": "stream",
     "text": [
      "Error at each fold : [0.17930000000000001, 0.1791, 0.1804, 0.17960000000000004, 0.18080000000000002]\n"
     ]
    },
    {
     "data": {
      "image/png": "[encoded data removed]",
      "text/plain": [
       "<matplotlib.figure.Figure at 0x7fae955d6710>"
      ]
     },
     "metadata": {
      "tags": []
     },
     "output_type": "display_data"
    },
    {
     "name": "stdout",
     "output_type": "stream",
     "text": [
      "Standard Deviation Error at each fold : [0.23908619784504503, 0.2392757614134787, 0.24077840434723377, 0.23958764575829025, 0.2410957486145287]\n"
     ]
    },
    {
     "data": {
      "image/png": "[encoded data removed]",
      "text/plain": [
       "<matplotlib.figure.Figure at 0x7fae92c3df98>"
      ]
     },
     "metadata": {
      "tags": []
     },
     "output_type": "display_data"
    }
   ],
   "source": [
    "x=np.arange(1,numberOfFolds+1,1)\n",
    "print(\"Error at each fold :\",errorTracker[minErrorIndex])\n",
    "plt.bar(x,errorTracker[minErrorIndex])\n",
    "plt.xlim(0,6)\n",
    "plt.ylim(0.15,0.185)\n",
    "plt.show()\n",
    "print(\"Standard Deviation Error at each fold :\",stdTracker[minErrorIndex])\n",
    "\n",
    "plt.bar(x,stdTracker[minErrorIndex])\n",
    "plt.show()"
   ]
  },
  {
   "cell_type": "markdown",
   "metadata": {
    "colab_type": "text",
    "id": "AN0aYof-Cdwn"
   },
   "source": [
    "** K Nearest Neighbour:**\n",
    "\n",
    "This is a classifier that does not require any training.\n",
    " The prediction is done by calculating the eucledian distance. The 1 nearest neighbour that is closest is considered to be the class of the data point.\n",
    " \n",
    " Eucledian Distance is claculated as $\\sqrt{(x1-x2)^2+(y1-y2)^2}$\n",
    " \n",
    " \n",
    " This is the simplest model that can be iplemented, but the drawback is the time taken to claculate. It has to find the distance between the given point and all the training set and then sort these distances to find the minimum. \n",
    " \n",
    "\n",
    " \n",
    " \n",
    " **Accuracy for 1000 images:**  96.91%\n",
    " \n",
    "**Observation:**\n",
    "\n",
    "1. The accuracy of 1 NN Classifierr is very higher  than MLFFNN Classifier\n",
    "2. 1 NN classification is kind of unsupervised learning.\n",
    "3. Even though the accuracy is high, the performance is very poor. Time complexity is very high as it involves finding distance for each and every point and then sorting it."
   ]
  },
  {
   "cell_type": "code",
   "execution_count": 14,
   "metadata": {
    "colab": {
     "base_uri": "https://localhost:8080/",
     "height": 208
    },
    "colab_type": "code",
    "id": "AofS44zF6gWH",
    "outputId": "4933d0f6-c967-4e34-ec97-e98d0c14b40a"
   },
   "outputs": [
    {
     "name": "stdout",
     "output_type": "stream",
     "text": [
      "Percentage Completed : 0.0\n",
      "Percentage Completed : 10.0\n",
      "Percentage Completed : 20.0\n",
      "Percentage Completed : 30.0\n",
      "Percentage Completed : 40.0\n",
      "Percentage Completed : 50.0\n",
      "Percentage Completed : 60.0\n",
      "Percentage Completed : 70.0\n",
      "Percentage Completed : 80.0\n",
      "Percentage Completed : 90.0\n",
      "Accuracy for 10000 test images in percentage:  96.91\n"
     ]
    }
   ],
   "source": [
    "train_imgs=train_imgs.reshape(nImg,nR,nC)\n",
    "test_imgs=test_imgs.reshape(nImgTest,nRTest,nCTest)\n",
    "\n",
    "def getAccuracy(predictions, answers):\n",
    "    correct=0\n",
    "    for i in range(len(answers)):\n",
    "      if predictions[i]==answers[i][0]:\n",
    "        correct+=1\n",
    "    total = float(len(answers))\n",
    "    return correct / total\n",
    "\n",
    "def predictTestData(predictor, test_set):\n",
    "   \n",
    "    predictions=[]\n",
    "    for i in range(len(test_set)):\n",
    "      predictions.append(predictor.predict(test_set[i, :, :]) )\n",
    "      if i%1000==0:\n",
    "        print(\"Percentage Completed : \",end=\"\")\n",
    "        print((i/len(test_set))*100)\n",
    "    return predictions\n",
    "\n",
    "\n",
    "class NearestNeighbor(object):\n",
    "    \n",
    "    def __init__(self, dataset, k):\n",
    "        self.dataset = dataset\n",
    "        self.k = k\n",
    "        \n",
    "    def predict(self, point):\n",
    "      candidates = self.dataset[:]\n",
    "      neighbors = []\n",
    "      while len(neighbors) < self.k:\n",
    "          distances = [self.eucledianDistance(x[0], point) for x in candidates]\n",
    "          best_distance = min(distances)\n",
    "          index = distances.index(best_distance)\n",
    "          neighbors.append(candidates[index])\n",
    "          del candidates[index]\n",
    "\n",
    "      prediction = [value[1][0] for value in neighbors]\n",
    "      return prediction\n",
    "      \n",
    "    def eucledianDistance(self, img1, img2):\n",
    "          return np.sum((img1-img2)**2)\n",
    "\n",
    "    \n",
    "   \n",
    "           \n",
    "dataset = []\n",
    "for i in range(len(train_imgs)):\n",
    "    dataset.append((train_imgs[i, :, :], train_labels[i]))\n",
    "    \n",
    "predictor= NearestNeighbor(dataset, 1)\n",
    "\n",
    "test_set = test_imgs[:, :, :]\n",
    "prediction = predictTestData(predictor, test_set) \n",
    "\n",
    "labels = np.asarray(test_labels[:])\n",
    "accuracy = getAccuracy(prediction, labels)\n",
    "print(\"Accuracy for 10000 test images in percentage: \",accuracy*100)"
   ]
  },
  {
   "cell_type": "markdown",
   "metadata": {
    "colab_type": "text",
    "id": "VIGpZByLILKi"
   },
   "source": [
    "## **Weight Decay:**\n",
    "It is a regularization term that is genaerally used to reduce the change that is caused due to big weights.\n",
    "It is mainly used to avoid overfitting.\n",
    "It is observed that for the best model used in the 1st question the accuracy using Weight Decay reguarizaton variation is pretty high.\n",
    "\n",
    "\n",
    "**Accuracy: ** 93.24%\n",
    "\n",
    "**Error: **6.76%\n",
    "\n",
    "**Observations:**\n",
    "\n",
    "1.  The accuracy attained is slightly high when compared to normal back propagation\n",
    "\n",
    "2.  The lambda value used is 0.0001. If higher or lower values is used then the accuracy attained is not as high as 93.24%. It is around 90%.\n",
    "\n",
    "\n"
   ]
  },
  {
   "cell_type": "code",
   "execution_count": 32,
   "metadata": {
    "colab": {
     "base_uri": "https://localhost:8080/",
     "height": 374
    },
    "colab_type": "code",
    "id": "GXGeKRNEiQcd",
    "outputId": "15af853b-33bb-49d8-c13c-7410b1facef4"
   },
   "outputs": [
    {
     "name": "stdout",
     "output_type": "stream",
     "text": [
      "[[ 955    0   12    3    4    8   17    1    9   13]\n",
      " [   0 1114   11    2    0    1    4   17    4    3]\n",
      " [   3    2  923    9    1    2    2   23    4    1]\n",
      " [   3    3   29  944    0   19    3   10   18    7]\n",
      " [   1    0   19    1  927    7    4    9    5   28]\n",
      " [   6    1    0   22    0  825   15    1   21    5]\n",
      " [   7    5   14    4   15   12  906    0   10    1]\n",
      " [   0    1    9    6    2    0    0  915    5    9]\n",
      " [   3    9   10   13    4   10    5    0  881    8]\n",
      " [   2    0    5    6   29    8    2   52   17  934]]\n",
      "digit:  0 Precision:  0.974 Recall:  0.934 Accuracy:  0.991 Specificity:  0.997 errorRate:  0.009\n",
      "digit:  1 Precision:  0.981 Recall:  0.964 Accuracy:  0.994 Specificity:  0.998 errorRate:  0.006\n",
      "digit:  2 Precision:  0.894 Recall:  0.952 Accuracy:  0.984 Specificity:  0.988 errorRate:  0.016\n",
      "digit:  3 Precision:  0.935 Recall:  0.911 Accuracy:  0.984 Specificity:  0.993 errorRate:  0.016\n",
      "digit:  4 Precision:  0.944 Recall:  0.926 Accuracy:  0.987 Specificity:  0.994 errorRate:  0.013\n",
      "digit:  5 Precision:  0.925 Recall:  0.921 Accuracy:  0.986 Specificity:  0.993 errorRate:  0.014\n",
      "digit:  6 Precision:  0.946 Recall:  0.93 Accuracy:  0.988 Specificity:  0.994 errorRate:  0.012\n",
      "digit:  7 Precision:  0.89 Recall:  0.966 Accuracy:  0.986 Specificity:  0.988 errorRate:  0.014\n",
      "digit:  8 Precision:  0.905 Recall:  0.934 Accuracy:  0.984 Specificity:  0.99 errorRate:  0.016\n",
      "digit:  9 Precision:  0.926 Recall:  0.885 Accuracy:  0.98 Specificity:  0.992 errorRate:  0.02\n",
      "Accuracy :  0.9324 Total Error :  0.0676 Average error:  0.013600000000000001 Average Standar Deviation of Error Rate: 0.0037469987990390394\n"
     ]
    }
   ],
   "source": [
    "nn = NeuralNetwork(inNodes = image_pixels, outNodes = 10,  hiddenNodes = hyperParameters[minErrorIndex][0], learningRate = hyperParameters[minErrorIndex][1],epochs=hyperParameters[minErrorIndex][2])   \n",
    "\n",
    "for i in range(train_imgs.shape[0]):\n",
    "  nn.train(train_imgs[i],train_labels_one_hot[i],\"Weight Decay\")\n",
    "cm=nn.confusion_matrix(test_imgs, test_labels)\n",
    "print(cm)\n",
    "conMatrixMeasures=measuresOfConMatrix(cm)\n",
    "corrects, wrongs = nn.evaluate(test_imgs, test_labels)\n",
    "accuracy=corrects / ( corrects + wrongs)\n",
    "for i in range(10):\n",
    "  print(\"digit: \", i, \"Precision: \", conMatrixMeasures.precision()[i], \"Recall: \", conMatrixMeasures.recall()[i],\n",
    "       \"Accuracy: \", conMatrixMeasures.accuracy()[i], \"Specificity: \", conMatrixMeasures.specificity()[i],\n",
    "       \"errorRate: \",conMatrixMeasures.errorRate()[i])\n",
    "print(\"Accuracy : \",accuracy,\"Total Error : \",1-accuracy,\"Average error: \",np.average(conMatrixMeasures.errorRate()),\"Average Standar Deviation of Error Rate:\",np.std(conMatrixMeasures.errorRate()));\n",
    "\n"
   ]
  },
  {
   "cell_type": "markdown",
   "metadata": {
    "colab_type": "text",
    "id": "zMA2je8XZbrA"
   },
   "source": [
    "## **Deskewing:**\n",
    "It will generally rotatte the image from slant to straight. In the below code scipy's interpolation is used inorder to deskew the image.\n",
    "\n",
    "**Observation:**\n",
    "\n",
    "1) The variation in  the result is not much different from mthe 1st question.\n",
    "\n",
    "2) Accuracy acttained: 92.47%\n",
    "\n",
    "3) Error: 7.53%"
   ]
  },
  {
   "cell_type": "code",
   "execution_count": 30,
   "metadata": {
    "colab": {
     "base_uri": "https://localhost:8080/",
     "height": 374
    },
    "colab_type": "code",
    "id": "X_uYn1is8HLv",
    "outputId": "18d077bd-5db7-4739-c632-cc99b0ff27ed"
   },
   "outputs": [
    {
     "name": "stdout",
     "output_type": "stream",
     "text": [
      "[[ 959    0   15    4    1   17   11    3    7    7]\n",
      " [   0 1112    6    2    0    3    3   17    2    4]\n",
      " [   2    1  906    7    4    1    2   17    5    0]\n",
      " [   1    6   28  944    1   45    2   11   32   11]\n",
      " [   3    0   14    0  916   12   14   10   15   30]\n",
      " [   1    0    0   10    0  760    9    0    7    0]\n",
      " [   2    4   11    1   10   15  912    0    9    0]\n",
      " [   5    0   10    9    0    3    0  923    8    4]\n",
      " [   6   11   33   22    3   22    4    8  876   14]\n",
      " [   1    1    9   11   47   14    1   39   13  939]]\n",
      "digit:  0 Precision:  0.979 Recall:  0.937 Accuracy:  0.991 Specificity:  0.998 errorRate:  0.009\n",
      "digit:  1 Precision:  0.98 Recall:  0.968 Accuracy:  0.994 Specificity:  0.997 errorRate:  0.006\n",
      "digit:  2 Precision:  0.878 Recall:  0.959 Accuracy:  0.984 Specificity:  0.986 errorRate:  0.016\n",
      "digit:  3 Precision:  0.935 Recall:  0.873 Accuracy:  0.98 Specificity:  0.993 errorRate:  0.02\n",
      "digit:  4 Precision:  0.933 Recall:  0.903 Accuracy:  0.984 Specificity:  0.993 errorRate:  0.016\n",
      "digit:  5 Precision:  0.852 Recall:  0.966 Accuracy:  0.984 Specificity:  0.986 errorRate:  0.016\n",
      "digit:  6 Precision:  0.952 Recall:  0.946 Accuracy:  0.99 Specificity:  0.995 errorRate:  0.01\n",
      "digit:  7 Precision:  0.898 Recall:  0.959 Accuracy:  0.986 Specificity:  0.988 errorRate:  0.014\n",
      "digit:  8 Precision:  0.899 Recall:  0.877 Accuracy:  0.978 Specificity:  0.989 errorRate:  0.022\n",
      "digit:  9 Precision:  0.931 Recall:  0.873 Accuracy:  0.979 Specificity:  0.992 errorRate:  0.021\n",
      "Accuracy :  0.9247 Total Error :  0.07530000000000003 Average error:  0.015 Average Standar Deviation of Error Rate: 0.005059644256269408\n"
     ]
    }
   ],
   "source": [
    "\n",
    "def moments(image):\n",
    "    c0,c1 = np.mgrid[:image.shape[0],:image.shape[1]] # A trick in numPy to create a mesh grid\n",
    "    totalImage = np.sum(image) #sum of pixels\n",
    "    m0 = np.sum(c0*image)/totalImage #mu_x\n",
    "    m1 = np.sum(c1*image)/totalImage #mu_y\n",
    "    m00 = np.sum((c0-m0)**2*image)/totalImage #var(x)\n",
    "    m11 = np.sum((c1-m1)**2*image)/totalImage #var(y)\n",
    "    m01 = np.sum((c0-m0)*(c1-m1)*image)/totalImage #covariance(x,y)\n",
    "    mu_vector = np.array([m0,m1]) # Notice that these are \\mu_x, \\mu_y respectively\n",
    "    covariance_matrix = np.array([[m00,m01],[m01,m11]]) # Do you see a similarity between the covariance matrix\n",
    "    return mu_vector, covariance_matrix\n",
    "  \n",
    "def deskew(image):\n",
    "    c,v = moments(image)\n",
    "    alpha = v[0,1]/v[0,0]\n",
    "    affine = np.array([[1,0],[alpha,1]])\n",
    "    ocenter = np.array(image.shape)/2.0\n",
    "    offset = c-np.dot(affine,ocenter)\n",
    "    return interpolation.affine_transform(image,affine,offset=offset)\n",
    "\n",
    "  \n",
    "def getNormalizedDeskewedImg(img):\n",
    "  normalizedDeskwedImg=(0.99 - (((0.98) * (255 - deskew(img.reshape(28,28)))) / 255)).reshape(28*28)\n",
    "  return normalizedDeskwedImg\n",
    "  \n",
    "nn = NeuralNetwork(inNodes = image_pixels, outNodes = 10,  hiddenNodes = hyperParameters[minErrorIndex][0], learningRate = hyperParameters[minErrorIndex][1],epochs=hyperParameters[minErrorIndex][2])   \n",
    "\n",
    "for i in range(train_imgs.shape[0]):\n",
    "  nn.train(train_imgs[i],train_labels_one_hot[i],None)\n",
    "cm=nn.confusion_matrix(test_imgs, test_labels)\n",
    "print(cm)\n",
    "conMatrixMeasures=measuresOfConMatrix(cm)\n",
    "corrects, wrongs = nn.evaluate(test_imgs, test_labels)\n",
    "accuracy=corrects / ( corrects + wrongs)\n",
    "for i in range(10):\n",
    "  print(\"digit: \", i, \"Precision: \", conMatrixMeasures.precision()[i], \"Recall: \", conMatrixMeasures.recall()[i],\n",
    "       \"Accuracy: \", conMatrixMeasures.accuracy()[i], \"Specificity: \", conMatrixMeasures.specificity()[i],\n",
    "       \"errorRate: \",conMatrixMeasures.errorRate()[i])\n",
    "print(\"Accuracy : \",accuracy,\"Total Error : \",1-accuracy,\"Average error: \",np.average(conMatrixMeasures.errorRate()),\"Average Standar Deviation of Error Rate:\",np.std(conMatrixMeasures.errorRate()));\n",
    "\n"
   ]
  },
  {
   "cell_type": "markdown",
   "metadata": {
    "colab_type": "text",
    "id": "d9NKg_tdb8NC"
   },
   "source": [
    "## Actual Image:"
   ]
  },
  {
   "cell_type": "code",
   "execution_count": 28,
   "metadata": {
    "colab": {
     "base_uri": "https://localhost:8080/",
     "height": 364
    },
    "colab_type": "code",
    "id": "lM3gOMZP5cZC",
    "outputId": "5adb6721-af0c-4505-85cb-4cc47a141cd3"
   },
   "outputs": [
    {
     "data": {
      "text/plain": [
       "<matplotlib.image.AxesImage at 0x7f5607a2e400>"
      ]
     },
     "execution_count": 28,
     "metadata": {
      "tags": []
     },
     "output_type": "execute_result"
    },
    {
     "data": {
      "image/png": "[encoded data removed]",
      "text/plain": [
       "<matplotlib.figure.Figure at 0x7f5607dc26d8>"
      ]
     },
     "metadata": {
      "tags": []
     },
     "output_type": "display_data"
    }
   ],
   "source": [
    "plt.imshow(train_imgs[1].reshape(28,28))\n"
   ]
  },
  {
   "cell_type": "markdown",
   "metadata": {
    "colab_type": "text",
    "id": "WM3_oF0ub2qO"
   },
   "source": [
    "## Deskewed Image:"
   ]
  },
  {
   "cell_type": "code",
   "execution_count": 30,
   "metadata": {
    "colab": {
     "base_uri": "https://localhost:8080/",
     "height": 364
    },
    "colab_type": "code",
    "id": "pqxMLqdo5pNp",
    "outputId": "e9339f59-2659-4efb-f97f-d0fa198d81f4"
   },
   "outputs": [
    {
     "data": {
      "text/plain": [
       "<matplotlib.image.AxesImage at 0x7f5607999f28>"
      ]
     },
     "execution_count": 30,
     "metadata": {
      "tags": []
     },
     "output_type": "execute_result"
    },
    {
     "data": {
      "image/png": "[encoded data removed]",
      "text/plain": [
       "<matplotlib.figure.Figure at 0x7f5607bc6208>"
      ]
     },
     "metadata": {
      "tags": []
     },
     "output_type": "display_data"
    }
   ],
   "source": [
    "plt.imshow(deskew(train_imgs[1].reshape(28,28)))"
   ]
  }
 ],
 "metadata": {
  "accelerator": "TPU",
  "colab": {
   "collapsed_sections": [],
   "name": "NN Assignment 2.ipynb",
   "provenance": [],
   "version": "0.3.2"
  },
  "kernelspec": {
   "display_name": "Python 3",
   "language": "python",
   "name": "python3"
  },
  "language_info": {
   "codemirror_mode": {
    "name": "ipython",
    "version": 3
   },
   "file_extension": ".py",
   "mimetype": "text/x-python",
   "name": "python",
   "nbconvert_exporter": "python",
   "pygments_lexer": "ipython3",
   "version": "3.6.5"
  }
 },
 "nbformat": 4,
 "nbformat_minor": 1
}
