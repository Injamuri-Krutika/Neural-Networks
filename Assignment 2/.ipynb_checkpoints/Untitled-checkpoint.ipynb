{
 "cells": [
  {
   "cell_type": "markdown",
   "metadata": {},
   "source": [
    "### Imports being used:"
   ]
  },
  {
   "cell_type": "code",
   "execution_count": 6,
   "metadata": {},
   "outputs": [],
   "source": [
    "import struct as st\n",
    "import numpy as np"
   ]
  },
  {
   "cell_type": "code",
   "execution_count": 8,
   "metadata": {},
   "outputs": [
    {
     "name": "stdout",
     "output_type": "stream",
     "text": [
      "60000 28 28\n"
     ]
    }
   ],
   "source": [
    "#opening file in readable binary mode\n",
    "filename = {'images' : 'train-images-idx3-ubyte' ,'labels' : 'train-labels-idx1-ubyte'}\n",
    "train_imagesfile = open(filename['images'],'rb')\n",
    "\n",
    "#reading magic number\n",
    "train_imagesfile.seek(0)\n",
    "magic = st.unpack('>4B',train_imagesfile.read(4))\n",
    "\n",
    "#reading dimensions of image dataset\n",
    "nImg = st.unpack('>I',train_imagesfile.read(4))[0] #num of images\n",
    "nR = st.unpack('>I',train_imagesfile.read(4))[0] #num of rows\n",
    "nC = st.unpack('>I',train_imagesfile.read(4))[0] #num of column\n",
    "\n",
    "\n",
    "images_array = np.zeros((nImg,nR,nC))\n",
    "\n",
    "print(nImg,nR,nC)\n",
    "#reading image data\n",
    "nBytesTotal = nImg*nR*nC*1 #since each pixel data is 1 byte\n",
    "print(np.asarray(st.unpack('>'+'B'*10,train_imagesfile.read(10))).reshape((nImg,nR,nC)))\n",
    "# images_array = 255 - np.asarray(st.unpack('>'+'B'*nBytesTotal,train_imagesfile.read(nBytesTotal))).reshape((nImg,nR,nC))\n"
   ]
  }
 ],
 "metadata": {
  "kernelspec": {
   "display_name": "Python 3",
   "language": "python",
   "name": "python3"
  },
  "language_info": {
   "codemirror_mode": {
    "name": "ipython",
    "version": 3
   },
   "file_extension": ".py",
   "mimetype": "text/x-python",
   "name": "python",
   "nbconvert_exporter": "python",
   "pygments_lexer": "ipython3",
   "version": "3.6.5"
  }
 },
 "nbformat": 4,
 "nbformat_minor": 2
}
